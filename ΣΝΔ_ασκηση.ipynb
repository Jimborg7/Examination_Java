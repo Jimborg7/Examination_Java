{
  "nbformat": 4,
  "nbformat_minor": 0,
  "metadata": {
    "colab": {
      "name": "ΣΝΔ_ασκηση.ipynb",
      "provenance": [],
      "collapsed_sections": [],
      "authorship_tag": "ABX9TyOrv59jL6J8MSbd+xSzdkyo",
      "include_colab_link": true
    },
    "kernelspec": {
      "name": "python3",
      "display_name": "Python 3"
    },
    "language_info": {
      "name": "python"
    },
    "accelerator": "GPU"
  },
  "cells": [
    {
      "cell_type": "markdown",
      "metadata": {
        "id": "view-in-github",
        "colab_type": "text"
      },
      "source": [
        "<a href=\"https://colab.research.google.com/github/Jimborg7/Examination_Java/blob/master/%CE%A3%CE%9D%CE%94_%CE%B1%CF%83%CE%BA%CE%B7%CF%83%CE%B7.ipynb\" target=\"_parent\"><img src=\"https://colab.research.google.com/assets/colab-badge.svg\" alt=\"Open In Colab\"/></a>"
      ]
    },
    {
      "cell_type": "markdown",
      "source": [
        "Start by taking the data for Covid-19_Radiography_Dataset which includes over 21.000 files and 4 categories "
      ],
      "metadata": {
        "id": "YDiLVLd5vood"
      }
    },
    {
      "cell_type": "code",
      "execution_count": 9,
      "metadata": {
        "id": "228l2nwyqpao",
        "colab": {
          "base_uri": "https://localhost:8080/"
        },
        "outputId": "55225cee-adb9-422d-d2a4-c5a6b7ca7028"
      },
      "outputs": [
        {
          "output_type": "stream",
          "name": "stdout",
          "text": [
            "Mounted at /content/drive\n",
            "Done\n"
          ]
        }
      ],
      "source": [
        "from google.colab import drive \n",
        "drive._mount('/content/drive')\n",
        "\n",
        "!cp '/content/drive/MyDrive/Covid-19/COVID-19_Radiography_Dataset.zip' .\n",
        "!unzip -q -n COVID-19_Radiography_Dataset.zip\n",
        "data_dir = '/content/COVID-19_Radiography_Dataset'\n",
        "print('Done')"
      ]
    },
    {
      "cell_type": "markdown",
      "source": [
        "Necessary imports such as tensorflow to get the images out of the dataset"
      ],
      "metadata": {
        "id": "rNx7lbWqv5NF"
      }
    },
    {
      "cell_type": "code",
      "source": [
        "import numpy as np\n",
        "import tensorflow as tf\n",
        "from tensorflow import keras\n",
        "from tensorflow.keras import layers\n",
        "import matplotlib.pyplot as plt"
      ],
      "metadata": {
        "id": "dtv-0BkAAX8Y"
      },
      "execution_count": 1,
      "outputs": []
    },
    {
      "cell_type": "markdown",
      "source": [
        "Prepare datasets: get images from main directory. Then split the dataset to devel_ds and test_ds. Devel_ds is the combination of tran_ds and val_ds. Because the images come at categories with labels it is needed to include the label_mode parameter."
      ],
      "metadata": {
        "id": "Yv7v9RNVu8Gc"
      }
    },
    {
      "cell_type": "code",
      "source": [
        "def prepare_datasets(data_dir, train_pct=0.6, val_pct=0.2, test_pct=0.2, batch_size=64, img_size=(299, 299)):\n",
        "    \n",
        "    #AUTOTUNE = tf.data.AUTOTUNE\n",
        "\n",
        "    devel_ds = tf.keras.utils.image_dataset_from_directory(\n",
        "        data_dir,\n",
        "        validation_split=train_pct + val_pct,\n",
        "        # Gia olo to sunolo ginetai iso me to test_pct ara validation_split = test_pct\n",
        "        color_mode='rgb',\n",
        "        subset=\"training\",\n",
        "        seed=123,\n",
        "        image_size=img_size,\n",
        "        batch_size=batch_size)\n",
        "\n",
        "    # Training set\n",
        "    train_size = int(round((train_pct + 0.15) * (tf.data.experimental.cardinality(devel_ds).numpy())))\n",
        "    train_ds = devel_ds.take(train_size)\n",
        "\n",
        "    # Validate set\n",
        "    validate_size = int(round((val_pct + 0.05) * (tf.data.experimental.cardinality(devel_ds).numpy())))\n",
        "    val_tmp = devel_ds.skip(train_size)\n",
        "    val_ds = val_tmp.take(validate_size)\n",
        "\n",
        "    # Test set\n",
        "    test_ds = tf.keras.utils.image_dataset_from_directory(\n",
        "        data_dir,\n",
        "        validation_split=test_pct,\n",
        "        subset=\"validation\",\n",
        "        seed=123,\n",
        "        image_size=img_size,\n",
        "        batch_size=batch_size)\n",
        "\n",
        "    # List with the names of the 4 classes\n",
        "    classes = devel_ds.class_names\n",
        "    print(classes)\n",
        "\n",
        "    # See the results in a graph to check the number of elements\n",
        "    '''y = np.concatenate([y for x, y in devel_ds])\n",
        "    plt.hist(y, list(range(len(classes) + 1)))\n",
        "    plt.show()'''\n",
        "\n",
        "   \n",
        "\n",
        "    return devel_ds, train_ds, val_ds, test_ds, classes"
      ],
      "metadata": {
        "id": "SPs8NLWsACbd"
      },
      "execution_count": 27,
      "outputs": []
    },
    {
      "cell_type": "markdown",
      "source": [
        "Convolutional network for question 3"
      ],
      "metadata": {
        "id": "_6z3-vyxu2jc"
      }
    },
    {
      "cell_type": "code",
      "source": [
        "def cnn1(num_classes,data_augmented):\n",
        "    # Normalizing the images from the [0,255] values of RGB to[0,1]\n",
        "    model = keras.Sequential([\n",
        "        data_augmented,\n",
        "        tf.keras.layers.Rescaling(1./255, input_shape=(299, 299, 3)),\n",
        "        layers.Conv2D(8, kernel_size=(3, 3), padding='same', activation='relu'),\n",
        "        layers.MaxPooling2D(strides=2),\n",
        "        layers.Conv2D(16, kernel_size=(3, 3), padding='same', activation='relu'),\n",
        "        layers.MaxPooling2D(strides=2),\n",
        "        layers.Dropout(0.2),\n",
        "        layers.Flatten(),\n",
        "        layers.Dense(32, activation='relu'),\n",
        "        layers.Dense(num_classes, activation='softmax')\n",
        "    ])\n",
        "    return model"
      ],
      "metadata": {
        "id": "AkZdiQlrAQlJ"
      },
      "execution_count": 23,
      "outputs": []
    },
    {
      "cell_type": "markdown",
      "source": [
        "Confusion matrix for question 3"
      ],
      "metadata": {
        "id": "eGQf6dxPuq_M"
      }
    },
    {
      "cell_type": "code",
      "source": [
        "def confusion_matrix(model, test_ds):\n",
        "    y_test = []\n",
        "    y_pred = []\n",
        "    for x_1,y_1 in test_ds:\n",
        "        y_pred_1 = model.predict(x_1)\n",
        "        y_test.append(y_1)\n",
        "        y_pred.append(y_pred_1)\n",
        "    y_true = np.concatenate(y_test)\n",
        "    y_p = np.concatenate(y_pred)\n",
        "    y_hat = tf.argmax(y_p,axis = 1)\n",
        "    cm = tf.math.confusion_matrix(y_true,y_hat)\n",
        "    return cm, y_hat\n"
      ],
      "metadata": {
        "id": "vP80gDRpRp6g"
      },
      "execution_count": 4,
      "outputs": []
    },
    {
      "cell_type": "markdown",
      "source": [
        "Convolutional network for question 4"
      ],
      "metadata": {
        "id": "zGoq2fiauxBU"
      }
    },
    {
      "cell_type": "code",
      "source": [
        "def cnn2(num_classes,data_augmented):\n",
        "    model = keras.Sequential([\n",
        "        data_augmented,\n",
        "        tf.keras.layers.Rescaling(1. /255, input_shape=(299,299,3)),\n",
        "        layers.Conv2D(32, kernel_size=(3,3),padding='same',activation='relu'),\n",
        "        layers.Conv2D(32, kernel_size=(3, 3), padding='same', activation='relu'),\n",
        "        layers.MaxPooling2D(strides=4),\n",
        "        layers.Conv2D(64, kernel_size=(3, 3), padding='same', activation='relu'),\n",
        "        layers.Conv2D(64, kernel_size=(3, 3), padding='same', activation='relu'),\n",
        "        layers.MaxPooling2D(strides=2),\n",
        "        layers.Conv2D(128, kernel_size=(3, 3), padding='same', activation='relu'),\n",
        "        layers.Conv2D(128, kernel_size=(3, 3), padding='same', activation='relu'),\n",
        "        layers.MaxPooling2D(strides=2),\n",
        "        layers.Conv2D(256, kernel_size=(3, 3), padding='same', activation='relu'),\n",
        "        layers.Conv2D(256, kernel_size=(3, 3), padding='same', activation='relu'),\n",
        "        layers.Conv2D(256, kernel_size=(3, 3), padding='same', activation='relu'),\n",
        "        layers.MaxPooling2D(strides=2),\n",
        "        layers.Conv2D(512, kernel_size=(3, 3), padding='same', activation='relu'),\n",
        "        layers.MaxPooling2D(strides=2),\n",
        "        layers.Dropout(0.2),\n",
        "        layers.Flatten(),\n",
        "        layers.Dense(1024, activation='relu'),\n",
        "        layers.Dense(num_classes, activation='softmax')\n",
        "    ])\n",
        "    return model"
      ],
      "metadata": {
        "id": "_5Rtxve2Rypg"
      },
      "execution_count": 5,
      "outputs": []
    },
    {
      "cell_type": "markdown",
      "source": [
        "Pre designed network to create model for training. Question 5"
      ],
      "metadata": {
        "id": "03EgWZoSvehV"
      }
    },
    {
      "cell_type": "code",
      "source": [
        "def pretrained(num_classes ):\n",
        "\n",
        "    input = layers.Input(shape = (224,224,3))\n",
        "    x = tf.keras.applications.efficientnet.EfficientNetB0(\n",
        "            include_top = True,\n",
        "            weights = None,\n",
        "            classes = num_classes,\n",
        "           )(input)\n",
        "    model = tf.keras.Model(input,x)\n",
        "    return model"
      ],
      "metadata": {
        "id": "YsiY9-Io_mr1"
      },
      "execution_count": 6,
      "outputs": []
    },
    {
      "cell_type": "markdown",
      "source": [
        "For OverFitting Later"
      ],
      "metadata": {
        "id": "HyMiU4Hs6Ecm"
      }
    },
    {
      "cell_type": "code",
      "source": [
        "#For Overfitting\n",
        "def data_augm(img_size):\n",
        "    data_augmentation = keras.Sequential([\n",
        "        tf.keras.layers.RandomFlip(\"horizontal\", input_shape=(img_size, img_size, 3)),\n",
        "        tf.keras.layers.RandomRotation(0.1),\n",
        "        tf.keras.layers.RandomZoom(0.1)\n",
        "    ])\n",
        "    return data_augmentation\n"
      ],
      "metadata": {
        "id": "RhUx8PAt6HnH"
      },
      "execution_count": 7,
      "outputs": []
    },
    {
      "cell_type": "markdown",
      "source": [
        "Start the modulation "
      ],
      "metadata": {
        "id": "4j2FeK036ILF"
      }
    },
    {
      "cell_type": "code",
      "source": [
        "devel_ds, train_ds, val_ds, test_ds, classes = prepare_datasets(data_dir)\n",
        "num_classes = len(classes)\n"
      ],
      "metadata": {
        "colab": {
          "base_uri": "https://localhost:8080/"
        },
        "id": "IbSOwrSXAwlX",
        "outputId": "34145c8d-319b-4a22-c729-63e822311ddf"
      },
      "execution_count": 28,
      "outputs": [
        {
          "output_type": "stream",
          "name": "stdout",
          "text": [
            "Found 21165 files belonging to 4 classes.\n",
            "Using 4233 files for training.\n",
            "Found 21165 files belonging to 4 classes.\n",
            "Using 4233 files for validation.\n",
            "['COVID', 'Lung_Opacity', 'Normal', 'Viral Pneumonia']\n"
          ]
        }
      ]
    },
    {
      "cell_type": "markdown",
      "source": [
        "One hot encoding to train & val and test. "
      ],
      "metadata": {
        "id": "hED27GRrPBul"
      }
    },
    {
      "cell_type": "code",
      "source": [
        "print(train_ds)"
      ],
      "metadata": {
        "colab": {
          "base_uri": "https://localhost:8080/"
        },
        "id": "cq81L70gPA8X",
        "outputId": "7235a8d3-1a32-477d-bb46-2c625ee8212e"
      },
      "execution_count": 29,
      "outputs": [
        {
          "output_type": "stream",
          "name": "stdout",
          "text": [
            "<TakeDataset shapes: ((None, 299, 299, 3), (None,)), types: (tf.float32, tf.int32)>\n"
          ]
        }
      ]
    },
    {
      "cell_type": "markdown",
      "source": [
        "Εκπαίδευση Μοντέλου\n"
      ],
      "metadata": {
        "id": "Af-RKbLlA2H_"
      }
    },
    {
      "cell_type": "code",
      "source": [
        "data_augmentation = data_augm(299)\n",
        "model = cnn1(num_classes,data_augmentation)\n",
        "\n",
        "model.summary()\n",
        "batch_size = 64\n",
        "epochs = 20\n",
        "\n",
        "callback = tf.keras.callbacks.EarlyStopping(monitor='val_loss', patience=3)\n",
        "model.compile(\n",
        "    optimizer=tf.keras.optimizers.Adam(learning_rate=1e-3, beta_1=0.9, beta_2=0.99),\n",
        "    loss=\"sparse_categorical_crossentropy\",\n",
        "    metrics=['accuracy'])"
      ],
      "metadata": {
        "colab": {
          "base_uri": "https://localhost:8080/"
        },
        "id": "USuRU5X-A6Gl",
        "outputId": "106b82b6-b242-46d0-e09d-adce39a55953"
      },
      "execution_count": 30,
      "outputs": [
        {
          "output_type": "stream",
          "name": "stdout",
          "text": [
            "Model: \"sequential_9\"\n",
            "_________________________________________________________________\n",
            " Layer (type)                Output Shape              Param #   \n",
            "=================================================================\n",
            " sequential_8 (Sequential)   (None, 299, 299, 3)       0         \n",
            "                                                                 \n",
            " rescaling_4 (Rescaling)     (None, 299, 299, 3)       0         \n",
            "                                                                 \n",
            " conv2d_8 (Conv2D)           (None, 299, 299, 8)       224       \n",
            "                                                                 \n",
            " max_pooling2d_8 (MaxPooling  (None, 149, 149, 8)      0         \n",
            " 2D)                                                             \n",
            "                                                                 \n",
            " conv2d_9 (Conv2D)           (None, 149, 149, 16)      1168      \n",
            "                                                                 \n",
            " max_pooling2d_9 (MaxPooling  (None, 74, 74, 16)       0         \n",
            " 2D)                                                             \n",
            "                                                                 \n",
            " dropout_4 (Dropout)         (None, 74, 74, 16)        0         \n",
            "                                                                 \n",
            " flatten_4 (Flatten)         (None, 87616)             0         \n",
            "                                                                 \n",
            " dense_8 (Dense)             (None, 32)                2803744   \n",
            "                                                                 \n",
            " dense_9 (Dense)             (None, 4)                 132       \n",
            "                                                                 \n",
            "=================================================================\n",
            "Total params: 2,805,268\n",
            "Trainable params: 2,805,268\n",
            "Non-trainable params: 0\n",
            "_________________________________________________________________\n"
          ]
        }
      ]
    },
    {
      "cell_type": "markdown",
      "source": [
        "Model.fit - training "
      ],
      "metadata": {
        "id": "4IkEyYSZBBvW"
      }
    },
    {
      "cell_type": "code",
      "source": [
        "history = model.fit(\n",
        "    x = train_ds,\n",
        "    validation_data=val_ds,\n",
        "    epochs=epochs,\n",
        "    batch_size=batch_size,\n",
        "    callbacks=callback,\n",
        "    verbose='auto')"
      ],
      "metadata": {
        "colab": {
          "base_uri": "https://localhost:8080/"
        },
        "id": "PTBG3bVzBEc2",
        "outputId": "609511f6-c213-4734-af50-b516db22d254"
      },
      "execution_count": 31,
      "outputs": [
        {
          "output_type": "stream",
          "name": "stdout",
          "text": [
            "Epoch 1/20\n",
            "50/50 [==============================] - 21s 356ms/step - loss: 1.6013 - accuracy: 0.3872 - val_loss: 1.1530 - val_accuracy: 0.5073\n",
            "Epoch 2/20\n",
            "50/50 [==============================] - 18s 345ms/step - loss: 1.1537 - accuracy: 0.4984 - val_loss: 1.1185 - val_accuracy: 0.5005\n",
            "Epoch 3/20\n",
            "50/50 [==============================] - 18s 344ms/step - loss: 1.1052 - accuracy: 0.5134 - val_loss: 1.0287 - val_accuracy: 0.5392\n",
            "Epoch 4/20\n",
            "50/50 [==============================] - 18s 349ms/step - loss: 1.0420 - accuracy: 0.5450 - val_loss: 0.9897 - val_accuracy: 0.5557\n",
            "Epoch 5/20\n",
            "50/50 [==============================] - 18s 345ms/step - loss: 0.9960 - accuracy: 0.5572 - val_loss: 0.9570 - val_accuracy: 0.5857\n",
            "Epoch 6/20\n",
            "50/50 [==============================] - 18s 345ms/step - loss: 0.9834 - accuracy: 0.5766 - val_loss: 0.9610 - val_accuracy: 0.5837\n",
            "Epoch 7/20\n",
            "50/50 [==============================] - 18s 343ms/step - loss: 0.9536 - accuracy: 0.5997 - val_loss: 0.9367 - val_accuracy: 0.6292\n",
            "Epoch 8/20\n",
            "50/50 [==============================] - 18s 343ms/step - loss: 0.9413 - accuracy: 0.6137 - val_loss: 0.8827 - val_accuracy: 0.6225\n",
            "Epoch 9/20\n",
            "50/50 [==============================] - 18s 347ms/step - loss: 0.9420 - accuracy: 0.6097 - val_loss: 0.8972 - val_accuracy: 0.6021\n",
            "Epoch 10/20\n",
            "50/50 [==============================] - 18s 349ms/step - loss: 0.9237 - accuracy: 0.6197 - val_loss: 0.8821 - val_accuracy: 0.6321\n",
            "Epoch 11/20\n",
            "50/50 [==============================] - 18s 344ms/step - loss: 0.9113 - accuracy: 0.6278 - val_loss: 0.8909 - val_accuracy: 0.6428\n",
            "Epoch 12/20\n",
            "50/50 [==============================] - 18s 346ms/step - loss: 0.9071 - accuracy: 0.6253 - val_loss: 0.9174 - val_accuracy: 0.6292\n",
            "Epoch 13/20\n",
            "50/50 [==============================] - 18s 344ms/step - loss: 0.9019 - accuracy: 0.6319 - val_loss: 0.8767 - val_accuracy: 0.6447\n",
            "Epoch 14/20\n",
            "50/50 [==============================] - 18s 346ms/step - loss: 0.8831 - accuracy: 0.6359 - val_loss: 0.8921 - val_accuracy: 0.6399\n",
            "Epoch 15/20\n",
            "50/50 [==============================] - 18s 347ms/step - loss: 0.8941 - accuracy: 0.6428 - val_loss: 0.9156 - val_accuracy: 0.6263\n",
            "Epoch 16/20\n",
            "50/50 [==============================] - 18s 347ms/step - loss: 0.9046 - accuracy: 0.6259 - val_loss: 0.8946 - val_accuracy: 0.6379\n"
          ]
        }
      ]
    },
    {
      "cell_type": "markdown",
      "source": [
        "Plot the results to check for overfitting "
      ],
      "metadata": {
        "id": "GGxxkRhJuVUs"
      }
    },
    {
      "cell_type": "code",
      "source": [
        "\n",
        "accuracy = history.history['accuracy']\n",
        "loss = history.history['loss']\n",
        "val_accuracy = history.history['val_accuracy']\n",
        "val_loss = history.history['val_loss']\n",
        "\n",
        "plt.plot(accuracy)\n",
        "plt.plot(val_accuracy)\n",
        "plt.title(\"Accuracy Results\")\n",
        "plt.xlabel(\"Epochs\")\n",
        "plt.ylabel(\"Accuracy\")\n",
        "plt.legend(['Train','Validation'])\n",
        "plt.show()\n",
        "\n",
        "plt.plot(loss)\n",
        "plt.plot(val_loss)\n",
        "plt.title(\"Loss Results\")\n",
        "plt.xlabel(\"Epochs\")\n",
        "plt.ylabel(\"Loss\")\n",
        "plt.legend(['Train','Validation'])\n",
        "plt.show()\n"
      ],
      "metadata": {
        "colab": {
          "base_uri": "https://localhost:8080/",
          "height": 573
        },
        "id": "0P0w1ZlxuUms",
        "outputId": "f86bc444-629f-49a0-b59c-2a48d0399507"
      },
      "execution_count": 32,
      "outputs": [
        {
          "output_type": "display_data",
          "data": {
            "image/png": "[encoded data removed]",
            "text/plain": [
              "<Figure size 432x288 with 1 Axes>"
            ]
          },
          "metadata": {
            "needs_background": "light"
          }
        },
        {
          "output_type": "display_data",
          "data": {
            "image/png": "[encoded data removed]",
            "text/plain": [
              "<Figure size 432x288 with 1 Axes>"
            ]
          },
          "metadata": {
            "needs_background": "light"
          }
        }
      ]
    },
    {
      "cell_type": "markdown",
      "source": [
        "Get confusiont table \n"
      ],
      "metadata": {
        "id": "IMdOCfB-ulIk"
      }
    },
    {
      "cell_type": "code",
      "source": [
        "cm , yhat = confusion_matrix(model, test_ds)\n",
        "print(cm)"
      ],
      "metadata": {
        "colab": {
          "base_uri": "https://localhost:8080/"
        },
        "id": "tU7JedWxR5tD",
        "outputId": "4548d80c-9c7a-4b06-dc03-06bc298119c9"
      },
      "execution_count": 33,
      "outputs": [
        {
          "output_type": "stream",
          "name": "stdout",
          "text": [
            "tf.Tensor(\n",
            "[[  24  237  407   10]\n",
            " [   4  924  260    8]\n",
            " [  61  319 1596   85]\n",
            " [  12   87    7  192]], shape=(4, 4), dtype=int32)\n"
          ]
        }
      ]
    },
    {
      "cell_type": "code",
      "source": [
        "print(yhat)"
      ],
      "metadata": {
        "id": "h2RiOefLT0_J",
        "colab": {
          "base_uri": "https://localhost:8080/"
        },
        "outputId": "77a624aa-4af5-4583-f49f-94e9f340962b"
      },
      "execution_count": 34,
      "outputs": [
        {
          "output_type": "stream",
          "name": "stdout",
          "text": [
            "tf.Tensor([2 2 1 ... 2 2 2], shape=(4233,), dtype=int64)\n"
          ]
        }
      ]
    },
    {
      "cell_type": "markdown",
      "source": [
        "Δεύτερο Μοντέλο με περισσότερα επίπεδα και φίλτρα\n"
      ],
      "metadata": {
        "id": "OGPJKJkPa_Mj"
      }
    },
    {
      "cell_type": "code",
      "source": [
        "model2 = cnn2(num_classes, data_augmentation)\n",
        "model2.summary()\n",
        "model2.compile(\n",
        "    optimizer=tf.keras.optimizers.Adam(learning_rate=1e-3, beta_1=0.9, beta_2=0.99),\n",
        "    loss=\"sparse_categorical_crossentropy\",\n",
        "    metrics=['accuracy'])\n",
        "\n",
        "history2 =model2.fit(\n",
        "    x = train_ds,\n",
        "    validation_data=val_ds,\n",
        "    epochs=epochs,\n",
        "    batch_size=batch_size,\n",
        "    callbacks=callback,\n",
        "    verbose='auto')\n",
        "\n"
      ],
      "metadata": {
        "colab": {
          "base_uri": "https://localhost:8080/"
        },
        "id": "5MwKBXViUOtT",
        "outputId": "75d035c3-5875-4838-e82e-d2655de33554"
      },
      "execution_count": 35,
      "outputs": [
        {
          "output_type": "stream",
          "name": "stdout",
          "text": [
            "Model: \"sequential_10\"\n",
            "_________________________________________________________________\n",
            " Layer (type)                Output Shape              Param #   \n",
            "=================================================================\n",
            " sequential_8 (Sequential)   (None, 299, 299, 3)       0         \n",
            "                                                                 \n",
            " rescaling_5 (Rescaling)     (None, 299, 299, 3)       0         \n",
            "                                                                 \n",
            " conv2d_10 (Conv2D)          (None, 299, 299, 32)      896       \n",
            "                                                                 \n",
            " conv2d_11 (Conv2D)          (None, 299, 299, 32)      9248      \n",
            "                                                                 \n",
            " max_pooling2d_10 (MaxPoolin  (None, 75, 75, 32)       0         \n",
            " g2D)                                                            \n",
            "                                                                 \n",
            " conv2d_12 (Conv2D)          (None, 75, 75, 64)        18496     \n",
            "                                                                 \n",
            " conv2d_13 (Conv2D)          (None, 75, 75, 64)        36928     \n",
            "                                                                 \n",
            " max_pooling2d_11 (MaxPoolin  (None, 37, 37, 64)       0         \n",
            " g2D)                                                            \n",
            "                                                                 \n",
            " conv2d_14 (Conv2D)          (None, 37, 37, 128)       73856     \n",
            "                                                                 \n",
            " conv2d_15 (Conv2D)          (None, 37, 37, 128)       147584    \n",
            "                                                                 \n",
            " max_pooling2d_12 (MaxPoolin  (None, 18, 18, 128)      0         \n",
            " g2D)                                                            \n",
            "                                                                 \n",
            " conv2d_16 (Conv2D)          (None, 18, 18, 256)       295168    \n",
            "                                                                 \n",
            " conv2d_17 (Conv2D)          (None, 18, 18, 256)       590080    \n",
            "                                                                 \n",
            " conv2d_18 (Conv2D)          (None, 18, 18, 256)       590080    \n",
            "                                                                 \n",
            " max_pooling2d_13 (MaxPoolin  (None, 9, 9, 256)        0         \n",
            " g2D)                                                            \n",
            "                                                                 \n",
            " conv2d_19 (Conv2D)          (None, 9, 9, 512)         1180160   \n",
            "                                                                 \n",
            " max_pooling2d_14 (MaxPoolin  (None, 4, 4, 512)        0         \n",
            " g2D)                                                            \n",
            "                                                                 \n",
            " dropout_5 (Dropout)         (None, 4, 4, 512)         0         \n",
            "                                                                 \n",
            " flatten_5 (Flatten)         (None, 8192)              0         \n",
            "                                                                 \n",
            " dense_10 (Dense)            (None, 1024)              8389632   \n",
            "                                                                 \n",
            " dense_11 (Dense)            (None, 4)                 4100      \n",
            "                                                                 \n",
            "=================================================================\n",
            "Total params: 11,336,228\n",
            "Trainable params: 11,336,228\n",
            "Non-trainable params: 0\n",
            "_________________________________________________________________\n",
            "Epoch 1/20\n",
            "50/50 [==============================] - 49s 817ms/step - loss: 1.2116 - accuracy: 0.4706 - val_loss: 1.1568 - val_accuracy: 0.4976\n",
            "Epoch 2/20\n",
            "50/50 [==============================] - 41s 798ms/step - loss: 1.1722 - accuracy: 0.4894 - val_loss: 1.1427 - val_accuracy: 0.4976\n",
            "Epoch 3/20\n",
            "50/50 [==============================] - 40s 794ms/step - loss: 1.1638 - accuracy: 0.4931 - val_loss: 1.0991 - val_accuracy: 0.4995\n",
            "Epoch 4/20\n",
            "50/50 [==============================] - 40s 791ms/step - loss: 1.1348 - accuracy: 0.4878 - val_loss: 1.1143 - val_accuracy: 0.4831\n",
            "Epoch 5/20\n",
            "50/50 [==============================] - 41s 797ms/step - loss: 1.1115 - accuracy: 0.4909 - val_loss: 1.0964 - val_accuracy: 0.4763\n",
            "Epoch 6/20\n",
            "50/50 [==============================] - 40s 795ms/step - loss: 1.0924 - accuracy: 0.5003 - val_loss: 1.0460 - val_accuracy: 0.5315\n",
            "Epoch 7/20\n",
            "50/50 [==============================] - 40s 793ms/step - loss: 1.0481 - accuracy: 0.5378 - val_loss: 0.9407 - val_accuracy: 0.5924\n",
            "Epoch 8/20\n",
            "50/50 [==============================] - 41s 797ms/step - loss: 0.9416 - accuracy: 0.6106 - val_loss: 0.9602 - val_accuracy: 0.5915\n",
            "Epoch 9/20\n",
            "50/50 [==============================] - 41s 797ms/step - loss: 0.8415 - accuracy: 0.6453 - val_loss: 0.7970 - val_accuracy: 0.6689\n",
            "Epoch 10/20\n",
            "50/50 [==============================] - 41s 800ms/step - loss: 0.7861 - accuracy: 0.6822 - val_loss: 0.7153 - val_accuracy: 0.7067\n",
            "Epoch 11/20\n",
            "50/50 [==============================] - 40s 796ms/step - loss: 0.7461 - accuracy: 0.6994 - val_loss: 0.7115 - val_accuracy: 0.6999\n",
            "Epoch 12/20\n",
            "50/50 [==============================] - 41s 798ms/step - loss: 0.7036 - accuracy: 0.7188 - val_loss: 0.6836 - val_accuracy: 0.7086\n",
            "Epoch 13/20\n",
            "50/50 [==============================] - 40s 795ms/step - loss: 0.6855 - accuracy: 0.7222 - val_loss: 0.6680 - val_accuracy: 0.7260\n",
            "Epoch 14/20\n",
            "50/50 [==============================] - 41s 800ms/step - loss: 0.6280 - accuracy: 0.7412 - val_loss: 0.6374 - val_accuracy: 0.7260\n",
            "Epoch 15/20\n",
            "50/50 [==============================] - 41s 798ms/step - loss: 0.6230 - accuracy: 0.7425 - val_loss: 0.5861 - val_accuracy: 0.7686\n",
            "Epoch 16/20\n",
            "50/50 [==============================] - 41s 799ms/step - loss: 0.6055 - accuracy: 0.7566 - val_loss: 0.5854 - val_accuracy: 0.7735\n",
            "Epoch 17/20\n",
            "50/50 [==============================] - 41s 797ms/step - loss: 0.5704 - accuracy: 0.7747 - val_loss: 0.5082 - val_accuracy: 0.7928\n",
            "Epoch 18/20\n",
            "50/50 [==============================] - 41s 800ms/step - loss: 0.5578 - accuracy: 0.7797 - val_loss: 0.5105 - val_accuracy: 0.7967\n",
            "Epoch 19/20\n",
            "50/50 [==============================] - 40s 794ms/step - loss: 0.5267 - accuracy: 0.7962 - val_loss: 0.5145 - val_accuracy: 0.8054\n",
            "Epoch 20/20\n",
            "50/50 [==============================] - 41s 801ms/step - loss: 0.5252 - accuracy: 0.7972 - val_loss: 0.4869 - val_accuracy: 0.7948\n"
          ]
        }
      ]
    },
    {
      "cell_type": "markdown",
      "source": [
        "Plot the results "
      ],
      "metadata": {
        "id": "NZlRrbcpD1fH"
      }
    },
    {
      "cell_type": "code",
      "source": [
        "accuracy = history2.history['accuracy']\n",
        "loss = history2.history['loss']\n",
        "\n",
        "val_accuracy = history2.history['val_accuracy']\n",
        "val_loss = history2.history['val_loss']\n",
        "\n",
        "\n",
        "plt.plot(accuracy)\n",
        "plt.plot(val_accuracy)\n",
        "plt.title(\"Accuracy Results\")\n",
        "plt.xlabel(\"Epochs\")\n",
        "plt.ylabel(\"Accuracy\")\n",
        "plt.legend(['Train','Validation'])\n",
        "plt.show()\n",
        "\n",
        "plt.plot(loss)\n",
        "plt.plot(val_loss)\n",
        "plt.title(\"Loss Results\")\n",
        "plt.xlabel(\"Epochs\")\n",
        "plt.ylabel(\"Loss\")\n",
        "plt.legend(['Train','Validation'])\n",
        "plt.show()"
      ],
      "metadata": {
        "colab": {
          "base_uri": "https://localhost:8080/",
          "height": 573
        },
        "id": "ccF6K5Tq__x3",
        "outputId": "f68356b2-823b-44bd-eb48-4c94b3d38035"
      },
      "execution_count": 36,
      "outputs": [
        {
          "output_type": "display_data",
          "data": {
            "image/png": "[encoded data removed]",
            "text/plain": [
              "<Figure size 432x288 with 1 Axes>"
            ]
          },
          "metadata": {
            "needs_background": "light"
          }
        },
        {
          "output_type": "display_data",
          "data": {
            "image/png": "[encoded data removed]",
            "text/plain": [
              "<Figure size 432x288 with 1 Axes>"
            ]
          },
          "metadata": {
            "needs_background": "light"
          }
        }
      ]
    },
    {
      "cell_type": "markdown",
      "source": [
        "Confusion Table for model 2"
      ],
      "metadata": {
        "id": "gO1VCQG5AFSw"
      }
    },
    {
      "cell_type": "code",
      "source": [
        "cm2, y_hat2 = confusion_matrix(model2, test_ds)\n",
        "print(cm2)"
      ],
      "metadata": {
        "colab": {
          "base_uri": "https://localhost:8080/"
        },
        "id": "mizt9mp8AHwn",
        "outputId": "7bb5f68b-20b1-492b-a172-d90d3b9e6b06"
      },
      "execution_count": 37,
      "outputs": [
        {
          "output_type": "stream",
          "name": "stdout",
          "text": [
            "tf.Tensor(\n",
            "[[ 440   78  154    6]\n",
            " [  92  881  216    7]\n",
            " [  93  102 1863    3]\n",
            " [   2    6   37  253]], shape=(4, 4), dtype=int32)\n"
          ]
        }
      ]
    },
    {
      "cell_type": "markdown",
      "source": [
        "Model 3 with pre trained network"
      ],
      "metadata": {
        "id": "XQEHNPyKAKMR"
      }
    },
    {
      "cell_type": "code",
      "source": [
        "model3 = pretrained(num_classes)\n",
        "model3.summary()\n",
        "\n",
        "##Re-sizing the train, val, and test dss\n",
        "epochs = 5\n",
        "batch_size = 32\n",
        "size = (224, 224)\n",
        "train_ds = train_ds.map(lambda image, label: (tf.image.resize(image, size), label))\n",
        "val_ds = val_ds.map(lambda image, label: (tf.image.resize(image, size), label))\n",
        "test_ds = test_ds.map(lambda image, label: (tf.image.resize(image, size), label))\n",
        "\n",
        "model3.compile(\n",
        "    optimizer=tf.keras.optimizers.Adam(learning_rate=1e-3, beta_1=0.9, beta_2=0.99),\n",
        "    loss=\"sparse_categorical_crossentropy\",\n",
        "    metrics=['accuracy'])\n",
        "history3 = model3.fit(\n",
        "    x=train_ds,\n",
        "    validation_data=val_ds,\n",
        "    epochs=epochs,\n",
        "    batch_size=batch_size,\n",
        "    callbacks=callback,\n",
        "    verbose='auto')"
      ],
      "metadata": {
        "colab": {
          "base_uri": "https://localhost:8080/"
        },
        "id": "KFBwdBuQAN-z",
        "outputId": "1c519851-2ee5-4d64-a4bd-acd4d7000e21"
      },
      "execution_count": 38,
      "outputs": [
        {
          "output_type": "stream",
          "name": "stdout",
          "text": [
            "Model: \"model\"\n",
            "_________________________________________________________________\n",
            " Layer (type)                Output Shape              Param #   \n",
            "=================================================================\n",
            " input_1 (InputLayer)        [(None, 224, 224, 3)]     0         \n",
            "                                                                 \n",
            " efficientnetb0 (Functional)  (None, 4)                4054695   \n",
            "                                                                 \n",
            "=================================================================\n",
            "Total params: 4,054,695\n",
            "Trainable params: 4,012,672\n",
            "Non-trainable params: 42,023\n",
            "_________________________________________________________________\n",
            "Epoch 1/5\n",
            "50/50 [==============================] - 88s 2s/step - loss: 2.3571 - accuracy: 0.4600 - val_loss: 1.2154 - val_accuracy: 0.2807\n",
            "Epoch 2/5\n",
            "50/50 [==============================] - 65s 1s/step - loss: 1.6484 - accuracy: 0.5884 - val_loss: 1.2083 - val_accuracy: 0.4811\n",
            "Epoch 3/5\n",
            "50/50 [==============================] - 65s 1s/step - loss: 1.1235 - accuracy: 0.6756 - val_loss: 1.3743 - val_accuracy: 0.1675\n",
            "Epoch 4/5\n",
            "50/50 [==============================] - 65s 1s/step - loss: 0.9085 - accuracy: 0.7437 - val_loss: 1.9023 - val_accuracy: 0.1636\n",
            "Epoch 5/5\n",
            "50/50 [==============================] - 65s 1s/step - loss: 0.7909 - accuracy: 0.7753 - val_loss: 1.6403 - val_accuracy: 0.1588\n"
          ]
        }
      ]
    },
    {
      "cell_type": "markdown",
      "source": [
        "Plot results fro third model "
      ],
      "metadata": {
        "id": "OJCiM4JrARXR"
      }
    },
    {
      "cell_type": "code",
      "source": [
        "accuracy = history3.history['accuracy']\n",
        "loss = history3.history['loss']\n",
        "\n",
        "val_accuracy = history3.history['val_accuracy']\n",
        "val_loss = history3.history['val_loss']\n",
        "\n",
        "\n",
        "plt.plot(accuracy)\n",
        "plt.plot(val_accuracy)\n",
        "plt.title(\"Accuracy Results\")\n",
        "plt.xlabel(\"Epochs\")\n",
        "plt.ylabel(\"Accuracy\")\n",
        "plt.legend(['Train','Validation'])\n",
        "plt.show()\n",
        "\n",
        "plt.plot(loss)\n",
        "plt.plot(val_loss)\n",
        "plt.title(\"Loss Results\")\n",
        "plt.xlabel(\"Epochs\")\n",
        "plt.ylabel(\"Loss\")\n",
        "plt.legend(['Train','Validation'])\n",
        "plt.show()"
      ],
      "metadata": {
        "colab": {
          "base_uri": "https://localhost:8080/",
          "height": 573
        },
        "id": "uAtfBnZiAUVf",
        "outputId": "ee34d70a-e0b7-42a7-8180-8cfd1b4a38b8"
      },
      "execution_count": 39,
      "outputs": [
        {
          "output_type": "display_data",
          "data": {
            "image/png": "[encoded data removed]",
            "text/plain": [
              "<Figure size 432x288 with 1 Axes>"
            ]
          },
          "metadata": {
            "needs_background": "light"
          }
        },
        {
          "output_type": "display_data",
          "data": {
            "image/png": "[encoded data removed]",
            "text/plain": [
              "<Figure size 432x288 with 1 Axes>"
            ]
          },
          "metadata": {
            "needs_background": "light"
          }
        }
      ]
    },
    {
      "cell_type": "markdown",
      "source": [
        "Confusion table model 3"
      ],
      "metadata": {
        "id": "zX7l2Zy8AWvG"
      }
    },
    {
      "cell_type": "code",
      "source": [
        "cm3, y_hat3 = confusion_matrix(model3, test_ds)\n",
        "print(cm3, y_hat3)\n"
      ],
      "metadata": {
        "colab": {
          "base_uri": "https://localhost:8080/"
        },
        "id": "7kzHtcOyAZ-n",
        "outputId": "d81cca41-1d44-46ea-f252-b3c09ba0c18d"
      },
      "execution_count": 40,
      "outputs": [
        {
          "output_type": "stream",
          "name": "stdout",
          "text": [
            "tf.Tensor(\n",
            "[[ 678    0    0    0]\n",
            " [1196    0    0    0]\n",
            " [2061    0    0    0]\n",
            " [ 298    0    0    0]], shape=(4, 4), dtype=int32) tf.Tensor([0 0 0 ... 0 0 0], shape=(4233,), dtype=int64)\n"
          ]
        }
      ]
    }
  ]
}